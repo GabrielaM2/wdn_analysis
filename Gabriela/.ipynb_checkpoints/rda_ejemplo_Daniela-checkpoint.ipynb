{
 "cells": [
  {
   "cell_type": "markdown",
   "metadata": {},
   "source": [
    "Importar las librerias de networkx y wntr."
   ]
  },
  {
   "cell_type": "code",
   "execution_count": 17,
   "metadata": {},
   "outputs": [],
   "source": [
    "import networkx as nx\n",
    "import wntr\n",
    "import numpy as np"
   ]
  },
  {
   "cell_type": "markdown",
   "metadata": {},
   "source": [
    "Importar el archivo de la red (*.inp) y se guarda en la variable 'wn'."
   ]
  },
  {
   "cell_type": "code",
   "execution_count": 18,
   "metadata": {},
   "outputs": [],
   "source": [
    "wn = wntr.network.WaterNetworkModel('nets/Net3.inp')"
   ]
  },
  {
   "cell_type": "markdown",
   "metadata": {},
   "source": [
    "La variable 'wn' se convierte en un multigrafo dirigido representado con la variable 'G', posteriormente se utiliza para transformarla en un multigrafo no dirigido que se representa con la variable 'uG', por último esta variable se transforma en un grafo simple represntado con la variable 'sG'."
   ]
  },
  {
   "cell_type": "code",
   "execution_count": 19,
   "metadata": {},
   "outputs": [],
   "source": [
    "G = wn.get_graph() # directed multigraph\n",
    "uG = G.to_undirected() # undirected multigraph\n",
    "sG = nx.Graph(uG) # undirected simple graph"
   ]
  },
  {
   "cell_type": "markdown",
   "metadata": {},
   "source": [
    "Para aplicar las métricas de resiliencia topográficas requieren que la red ejemplo sea un grafo dirigido, no dirigido o simple."
   ]
  },
  {
   "cell_type": "markdown",
   "metadata": {},
   "source": [
    "Grado de nodo"
   ]
  },
  {
   "cell_type": "code",
   "execution_count": 20,
   "metadata": {},
   "outputs": [
    {
     "name": "stdout",
     "output_type": "stream",
     "text": [
      "[('10', 2), ('15', 1), ('20', 2), ('35', 1), ('40', 2), ('50', 2), ('60', 3), ('601', 2), ('61', 3), ('101', 3), ('103', 2), ('105', 3), ('107', 2), ('109', 2), ('111', 4), ('113', 3), ('115', 4), ('117', 3), ('119', 4), ('120', 4), ('121', 4), ('123', 2), ('125', 3), ('127', 3), ('129', 3), ('131', 1), ('139', 2), ('141', 3), ('143', 2), ('145', 2), ('147', 2), ('149', 2), ('151', 3), ('153', 2), ('157', 2), ('159', 2), ('161', 3), ('163', 3), ('164', 2), ('166', 1), ('167', 1), ('169', 4), ('171', 3), ('173', 2), ('177', 2), ('179', 3), ('181', 3), ('183', 3), ('184', 2), ('185', 3), ('187', 3), ('189', 4), ('191', 3), ('193', 4), ('195', 2), ('197', 2), ('199', 3), ('201', 3), ('203', 1), ('204', 2), ('205', 3), ('206', 2), ('207', 3), ('208', 2), ('209', 2), ('211', 3), ('213', 3), ('215', 2), ('217', 3), ('219', 1), ('225', 1), ('229', 3), ('231', 1), ('237', 3), ('239', 3), ('241', 3), ('243', 1), ('247', 3), ('249', 3), ('251', 2), ('253', 1), ('255', 4), ('257', 3), ('259', 2), ('261', 3), ('263', 3), ('265', 3), ('267', 3), ('269', 3), ('271', 3), ('273', 3), ('275', 3), ('River', 1), ('Lake', 1), ('1', 1), ('2', 1), ('3', 1)]\n"
     ]
    }
   ],
   "source": [
    "node_degree = G.degree()\n",
    "print(node_degree)"
   ]
  },
  {
   "cell_type": "markdown",
   "metadata": {},
   "source": [
    "Nodos terminales"
   ]
  },
  {
   "cell_type": "code",
   "execution_count": 21,
   "metadata": {},
   "outputs": [
    {
     "name": "stdout",
     "output_type": "stream",
     "text": [
      "['15', '35', '131', '166', '167', '203', '219', '225', '231', '243', '253', 'River', 'Lake', '1', '2', '3']\n"
     ]
    }
   ],
   "source": [
    "terminal_nodes = wntr.metrics.terminal_nodes(G)\n",
    "print(terminal_nodes)"
   ]
  },
  {
   "cell_type": "markdown",
   "metadata": {},
   "source": [
    "Densidad de enlaces"
   ]
  },
  {
   "cell_type": "code",
   "execution_count": 22,
   "metadata": {},
   "outputs": [
    {
     "name": "stdout",
     "output_type": "stream",
     "text": [
      "0.012779209621993127\n"
     ]
    }
   ],
   "source": [
    "link_density = nx.density(G)\n",
    "print(link_density)"
   ]
  },
  {
   "cell_type": "markdown",
   "metadata": {},
   "source": [
    "Diámetro"
   ]
  },
  {
   "cell_type": "code",
   "execution_count": 23,
   "metadata": {},
   "outputs": [
    {
     "name": "stdout",
     "output_type": "stream",
     "text": [
      "30\n"
     ]
    }
   ],
   "source": [
    "diameter = nx.diameter(uG)\n",
    "print(diameter)"
   ]
  },
  {
   "cell_type": "markdown",
   "metadata": {},
   "source": [
    "Excentricidad"
   ]
  },
  {
   "cell_type": "code",
   "execution_count": 24,
   "metadata": {},
   "outputs": [
    {
     "name": "stdout",
     "output_type": "stream",
     "text": [
      "{'10': 23, '15': 30, '20': 26, '35': 19, '40': 17, '50': 29, '60': 26, '601': 26, '61': 25, '101': 22, '103': 21, '105': 22, '107': 21, '109': 20, '111': 19, '113': 19, '115': 20, '117': 21, '119': 23, '120': 22, '121': 23, '123': 24, '125': 24, '127': 25, '129': 26, '131': 27, '139': 27, '141': 28, '143': 29, '145': 27, '147': 26, '149': 25, '151': 24, '153': 25, '157': 22, '159': 21, '161': 20, '163': 19, '164': 20, '166': 21, '167': 18, '169': 17, '171': 16, '173': 15, '177': 17, '179': 16, '181': 18, '183': 15, '184': 17, '185': 16, '187': 16, '189': 16, '191': 17, '193': 18, '195': 19, '197': 18, '199': 16, '201': 17, '203': 18, '204': 15, '205': 18, '206': 20, '207': 19, '208': 21, '209': 22, '211': 23, '213': 24, '215': 25, '217': 26, '219': 27, '225': 27, '229': 25, '231': 26, '237': 24, '239': 25, '241': 26, '243': 27, '247': 27, '249': 26, '251': 27, '253': 29, '255': 28, '257': 23, '259': 24, '261': 22, '263': 23, '265': 18, '267': 17, '269': 17, '271': 17, '273': 17, '275': 18, 'River': 27, 'Lake': 24, '1': 18, '2': 30, '3': 27}\n"
     ]
    }
   ],
   "source": [
    "eccentricity = nx.eccentricity(uG)\n",
    "print(eccentricity)"
   ]
  },
  {
   "cell_type": "markdown",
   "metadata": {},
   "source": [
    "Centralidad de intermediación"
   ]
  },
  {
   "cell_type": "code",
   "execution_count": 25,
   "metadata": {},
   "outputs": [
    {
     "name": "stdout",
     "output_type": "stream",
     "text": [
      "{'10': 0.020833333333333332, '15': 0.0, '20': 0.020833333333333332, '35': 0.0, '40': 0.020833333333333332, '50': 0.020833333333333332, '60': 0.020833333333333332, '601': 0.0, '61': 0.06118421052631579, '101': 0.043201754385964915, '103': 0.03278508771929824, '105': 0.03992932699395547, '107': 0.03661792348518354, '109': 0.050328947368421056, '111': 0.13527446066145765, '113': 0.21591353792979182, '115': 0.2856616828017758, '117': 0.2454133290743199, '119': 0.18798806657165795, '120': 0.23789354923255865, '121': 0.23260233918128653, '123': 0.08070175438596491, '125': 0.1333698830409357, '127': 0.11441885964912281, '129': 0.06014254385964912, '131': 0.0, '139': 0.022532894736842102, '141': 0.04418859649122807, '143': 0.020833333333333332, '145': 0.04172149122807018, '147': 0.058826754385964915, '149': 0.07648026315789473, '151': 0.10720029239766081, '153': 0.0031798245614035087, '157': 0.14091726456664527, '159': 0.14644358035611887, '161': 0.16048754443297766, '163': 0.15357860541877597, '164': 0.020833333333333332, '166': 0.0, '167': 0.0, '169': 0.1511299388176325, '171': 0.14034412010418199, '173': 0.12314748267728136, '177': 0.008223684210526315, '179': 0.061622807017543864, '181': 0.02730263157894737, '183': 0.17864329942503313, '184': 0.29710105533441444, '185': 0.30587298515897593, '187': 0.19111126468131107, '189': 0.18371639884023774, '191': 0.19096506585090173, '193': 0.2613912948220225, '195': 0.03726294903926481, '197': 0.1056691975035628, '199': 0.11800859378839249, '201': 0.0501735752780645, '203': 0.0, '204': 0.17353816526610644, '205': 0.31833104001834645, '206': 0.34539473684210525, '207': 0.3613054695562436, '208': 0.3333333333333333, '209': 0.32083333333333336, '211': 0.31392543859649125, '213': 0.09802631578947368, '215': 0.06118421052631579, '217': 0.041447368421052636, '219': 0.0, '225': 0.0, '229': 0.0268640350877193, '231': 0.0, '237': 0.20592105263157895, '239': 0.17207602339181288, '241': 0.05621345029239766, '243': 0.0, '247': 0.05416666666666667, '249': 0.08081140350877189, '251': 0.026169590643274853, '253': 0.0, '255': 0.06187865497076023, '257': 0.030708910757285362, '259': 0.008094715956558066, '261': 0.0346442290366439, '263': 0.02674879600963193, '265': 0.17232615853358912, '267': 0.19607506306616201, '269': 0.03725511695906433, '271': 0.04354532163742691, '273': 0.06408329852408799, '275': 0.06473440545808969, 'River': 0.0, 'Lake': 0.0, '1': 0.0, '2': 0.0, '3': 0.0}\n"
     ]
    }
   ],
   "source": [
    "betweenness_centrality = nx.betweenness_centrality(sG)\n",
    "print(betweenness_centrality)"
   ]
  },
  {
   "cell_type": "markdown",
   "metadata": {},
   "source": [
    "Centralidad de cercanía"
   ]
  },
  {
   "cell_type": "code",
   "execution_count": 26,
   "metadata": {},
   "outputs": [
    {
     "name": "stdout",
     "output_type": "stream",
     "text": [
      "{'10': 0.010416666666666666, '15': 0.0, '20': 0.010416666666666666, '35': 0.0, '40': 0.010416666666666666, '50': 0.010416666666666666, '60': 0.010416666666666666, '601': 0.013888888888888888, '61': 0.0234375, '101': 0.013888888888888888, '103': 0.015625, '105': 0.04326923076923077, '107': 0.03708791208791209, '109': 0.016666666666666666, '111': 0.03734756097560976, '113': 0.03908268733850129, '115': 0.03245192307692307, '117': 0.048913043478260865, '119': 0.019736842105263157, '120': 0.025520833333333333, '121': 0.020032051282051284, '123': 0.020833333333333332, '125': 0.019736842105263157, '127': 0.0290948275862069, '129': 0.026709401709401708, '131': 0.025208333333333333, '139': 0.025208333333333333, '141': 0.0392156862745098, '143': 0.010416666666666666, '145': 0.010416666666666666, '147': 0.0, '149': 0.010416666666666666, '151': 0.0290948275862069, '153': 0.03707107843137255, '157': 0.019631410256410256, '159': 0.0196078431372549, '161': 0.019622093023255814, '163': 0.019654088050314468, '164': 0.019694010416666664, '166': 0.019736842105263157, '167': 0.0, '169': 0.022862554112554112, '171': 0.03409090909090909, '173': 0.03186793785310734, '177': 0.013888888888888888, '179': 0.02893518518518519, '181': 0.010416666666666666, '183': 0.06986692015209126, '184': 0.06388888888888888, '185': 0.07054765886287626, '187': 0.06108597285067874, '189': 0.06019064465408804, '191': 0.03280009920634921, '193': 0.042002688172043015, '195': 0.058016004415011035, '197': 0.03477011494252873, '199': 0.030193236714975848, '201': 0.028891509433962265, '203': 0.027854511970534068, '204': 0.05527293281653747, '205': 0.06954732510288066, '206': 0.06318504190844616, '207': 0.06835231381055676, '208': 0.058961236933797914, '209': 0.05544567510548523, '211': 0.052475277375783884, '213': 0.049933422103861515, '215': 0.04773450328407225, '217': 0.04581426392067124, '219': 0.044123532550693706, '225': 0.044123532550693706, '229': 0.04925174251742517, '231': 0.047196061643835614, '237': 0.049933422103861515, '239': 0.04773450328407225, '241': 0.04581426392067124, '243': 0.044123532550693706, '247': 0.044123532550693706, '249': 0.04865070315469403, '251': 0.05080872011251758, '253': 0.043660519763460935, '255': 0.04519422310756972, '257': 0.023809523809523808, '259': 0.022804054054054057, '261': 0.044407894736842105, '263': 0.04066265060240964, '265': 0.019694010416666664, '267': 0.05753113026819924, '269': 0.02243589743589744, '271': 0.02761850152905199, '273': 0.028891509433962265, '275': 0.030277014652014652, 'River': 0.0, 'Lake': 0.0, '1': 0.0, '2': 0.0, '3': 0.0}\n"
     ]
    }
   ],
   "source": [
    "closeness_centrality = nx.closeness_centrality(G)\n",
    "print(closeness_centrality)"
   ]
  },
  {
   "cell_type": "markdown",
   "metadata": {},
   "source": [
    "Puntos de articulación"
   ]
  },
  {
   "cell_type": "code",
   "execution_count": 11,
   "metadata": {},
   "outputs": [
    {
     "name": "stdout",
     "output_type": "stream",
     "text": [
      "['2', '30', '29', '28', '27', '12', '13', '22', '24', '15', '17', '20', '19', '9', '7', '4', '1']\n"
     ]
    }
   ],
   "source": [
    "articulation_points = list(nx.articulation_points(uG))\n",
    "print(articulation_points)"
   ]
  },
  {
   "cell_type": "markdown",
   "metadata": {},
   "source": [
    "Puentes"
   ]
  },
  {
   "cell_type": "code",
   "execution_count": 12,
   "metadata": {},
   "outputs": [
    {
     "name": "stdout",
     "output_type": "stream",
     "text": [
      "['1', '35', '2', '3', '4', '13', '16', '14', '15', '8', '27', '23', '30', '32', '33', '34', '20', '18', '36', '37', '10', '12', '11']\n"
     ]
    }
   ],
   "source": [
    "bridges = wntr.metrics.bridges(G)\n",
    "print(bridges)"
   ]
  },
  {
   "cell_type": "markdown",
   "metadata": {},
   "source": [
    "Longitudes de ruta más cortas"
   ]
  },
  {
   "cell_type": "code",
   "execution_count": 13,
   "metadata": {},
   "outputs": [
    {
     "name": "stdout",
     "output_type": "stream",
     "text": [
      "<generator object all_pairs_shortest_path_length at 0x7fd51d5ff740>\n"
     ]
    }
   ],
   "source": [
    "shortest_path_length = nx.shortest_path_length(uG)\n",
    "print(shortest_path_length)"
   ]
  },
  {
   "cell_type": "markdown",
   "metadata": {},
   "source": [
    "Longitud de ruta más corta promedio"
   ]
  },
  {
   "cell_type": "code",
   "execution_count": 14,
   "metadata": {},
   "outputs": [
    {
     "name": "stdout",
     "output_type": "stream",
     "text": [
      "5.049242424242424\n"
     ]
    }
   ],
   "source": [
    "ave_shortest_path_length = nx.average_shortest_path_length(uG)\n",
    "print(ave_shortest_path_length)"
   ]
  },
  {
   "cell_type": "markdown",
   "metadata": {},
   "source": [
    "Rutas entre dos nodos en un gráfico ponderado, donde el gráfico se pondera según la dirección del flujo de una simulación hidráulica"
   ]
  },
  {
   "cell_type": "code",
   "execution_count": 15,
   "metadata": {},
   "outputs": [
    {
     "name": "stdout",
     "output_type": "stream",
     "text": [
      "<generator object _all_simple_paths_multigraph at 0x7fd51d5dceb0>\n"
     ]
    }
   ],
   "source": [
    "sim = wntr.sim.EpanetSimulator(wn)\n",
    "results = sim.run_sim()\n",
    "flowrate = results.link['flowrate']\n",
    "G = wn.get_graph(link_weight=flowrate)\n",
    "all_paths = nx.all_simple_paths(G, '1', '5')\n",
    "print(all_paths)"
   ]
  },
  {
   "cell_type": "markdown",
   "metadata": {},
   "source": [
    "Métricas hidráulicas, estás requieren de la simulación hidráulica de la red."
   ]
  },
  {
   "cell_type": "markdown",
   "metadata": {},
   "source": [
    "Nodos y momentos en los que la presión supera un umbral, utilizando los resultados de una simulación hidráulica."
   ]
  },
  {
   "cell_type": "code",
   "execution_count": 16,
   "metadata": {},
   "outputs": [
    {
     "ename": "RuntimeError",
     "evalue": "Simulation did not converge. Reached maximum number of iterations: 2999",
     "output_type": "error",
     "traceback": [
      "\u001b[0;31m---------------------------------------------------------------------------\u001b[0m",
      "\u001b[0;31mRuntimeError\u001b[0m                              Traceback (most recent call last)",
      "\u001b[0;32m<ipython-input-16-39e2a323188e>\u001b[0m in \u001b[0;36m<module>\u001b[0;34m\u001b[0m\n\u001b[1;32m      1\u001b[0m \u001b[0mwn\u001b[0m\u001b[0;34m.\u001b[0m\u001b[0moptions\u001b[0m\u001b[0;34m.\u001b[0m\u001b[0mhydraulic\u001b[0m\u001b[0;34m.\u001b[0m\u001b[0mdemand_model\u001b[0m \u001b[0;34m=\u001b[0m \u001b[0;34m'PDD'\u001b[0m\u001b[0;34m\u001b[0m\u001b[0;34m\u001b[0m\u001b[0m\n\u001b[1;32m      2\u001b[0m \u001b[0msim\u001b[0m \u001b[0;34m=\u001b[0m \u001b[0mwntr\u001b[0m\u001b[0;34m.\u001b[0m\u001b[0msim\u001b[0m\u001b[0;34m.\u001b[0m\u001b[0mWNTRSimulator\u001b[0m\u001b[0;34m(\u001b[0m\u001b[0mwn\u001b[0m\u001b[0;34m)\u001b[0m\u001b[0;34m\u001b[0m\u001b[0;34m\u001b[0m\u001b[0m\n\u001b[0;32m----> 3\u001b[0;31m \u001b[0mresults\u001b[0m \u001b[0;34m=\u001b[0m \u001b[0msim\u001b[0m\u001b[0;34m.\u001b[0m\u001b[0mrun_sim\u001b[0m\u001b[0;34m(\u001b[0m\u001b[0;34m)\u001b[0m\u001b[0;34m\u001b[0m\u001b[0;34m\u001b[0m\u001b[0m\n\u001b[0m",
      "\u001b[0;32m~/anaconda3/envs/wdn/lib/python3.8/site-packages/wntr/sim/core.py\u001b[0m in \u001b[0;36mrun_sim\u001b[0;34m(self, solver, backup_solver, solver_options, backup_solver_options, convergence_error, HW_approx, diagnostics)\u001b[0m\n\u001b[1;32m    901\u001b[0m                 \u001b[0;32mif\u001b[0m \u001b[0mself\u001b[0m\u001b[0;34m.\u001b[0m\u001b[0m_convergence_error\u001b[0m\u001b[0;34m:\u001b[0m\u001b[0;34m\u001b[0m\u001b[0;34m\u001b[0m\u001b[0m\n\u001b[1;32m    902\u001b[0m                     \u001b[0mlogger\u001b[0m\u001b[0;34m.\u001b[0m\u001b[0merror\u001b[0m\u001b[0;34m(\u001b[0m\u001b[0;34m'Simulation did not converge. '\u001b[0m \u001b[0;34m+\u001b[0m \u001b[0mmesg\u001b[0m\u001b[0;34m)\u001b[0m\u001b[0;34m\u001b[0m\u001b[0;34m\u001b[0m\u001b[0m\n\u001b[0;32m--> 903\u001b[0;31m                     \u001b[0;32mraise\u001b[0m \u001b[0mRuntimeError\u001b[0m\u001b[0;34m(\u001b[0m\u001b[0;34m'Simulation did not converge. '\u001b[0m \u001b[0;34m+\u001b[0m \u001b[0mmesg\u001b[0m\u001b[0;34m)\u001b[0m\u001b[0;34m\u001b[0m\u001b[0;34m\u001b[0m\u001b[0m\n\u001b[0m\u001b[1;32m    904\u001b[0m                 \u001b[0mwarnings\u001b[0m\u001b[0;34m.\u001b[0m\u001b[0mwarn\u001b[0m\u001b[0;34m(\u001b[0m\u001b[0;34m'Simulation did not converge. '\u001b[0m \u001b[0;34m+\u001b[0m \u001b[0mmesg\u001b[0m\u001b[0;34m)\u001b[0m\u001b[0;34m\u001b[0m\u001b[0;34m\u001b[0m\u001b[0m\n\u001b[1;32m    905\u001b[0m                 \u001b[0mlogger\u001b[0m\u001b[0;34m.\u001b[0m\u001b[0mwarning\u001b[0m\u001b[0;34m(\u001b[0m\u001b[0;34m'Simulation did not converge at time '\u001b[0m \u001b[0;34m+\u001b[0m \u001b[0mstr\u001b[0m\u001b[0;34m(\u001b[0m\u001b[0mself\u001b[0m\u001b[0;34m.\u001b[0m\u001b[0m_get_time\u001b[0m\u001b[0;34m(\u001b[0m\u001b[0;34m)\u001b[0m\u001b[0;34m)\u001b[0m \u001b[0;34m+\u001b[0m \u001b[0;34m'. '\u001b[0m \u001b[0;34m+\u001b[0m \u001b[0mmesg\u001b[0m\u001b[0;34m)\u001b[0m\u001b[0;34m\u001b[0m\u001b[0;34m\u001b[0m\u001b[0m\n",
      "\u001b[0;31mRuntimeError\u001b[0m: Simulation did not converge. Reached maximum number of iterations: 2999"
     ]
    }
   ],
   "source": [
    "wn.options.hydraulic.demand_model = 'PDD'\n",
    "sim = wntr.sim.WNTRSimulator(wn)\n",
    "results = sim.run_sim()"
   ]
  },
  {
   "cell_type": "code",
   "execution_count": null,
   "metadata": {},
   "outputs": [],
   "source": []
  }
 ],
 "metadata": {
  "kernelspec": {
   "display_name": "Python 3",
   "language": "python",
   "name": "python3"
  },
  "language_info": {
   "codemirror_mode": {
    "name": "ipython",
    "version": 3
   },
   "file_extension": ".py",
   "mimetype": "text/x-python",
   "name": "python",
   "nbconvert_exporter": "python",
   "pygments_lexer": "ipython3",
   "version": "3.8.6"
  }
 },
 "nbformat": 4,
 "nbformat_minor": 5
}
